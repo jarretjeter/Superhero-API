{
 "cells": [
  {
   "cell_type": "code",
   "execution_count": null,
   "metadata": {},
   "outputs": [],
   "source": [
    "from flask import Flask, request\n",
    "import logging\n",
    "from pprint import pprint\n",
    "import pandas as pd\n",
    "import sys\n",
    "import yaml\n",
    "\n",
    "with open(\"./api_key.yml\") as token:\n",
    "\n"
   ]
  }
 ],
 "metadata": {
  "interpreter": {
   "hash": "bf762d01356f80a3abdd7fa189e8f899126c2d57ddea76d897f2d4e345418e6b"
  },
  "kernelspec": {
   "display_name": "Python 3.7.13 ('venv': venv)",
   "language": "python",
   "name": "python3"
  },
  "language_info": {
   "name": "python",
   "version": "3.7.13"
  },
  "orig_nbformat": 4
 },
 "nbformat": 4,
 "nbformat_minor": 2
}
