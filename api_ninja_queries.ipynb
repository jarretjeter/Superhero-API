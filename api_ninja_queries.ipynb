{
 "cells": [
  {
   "cell_type": "code",
   "execution_count": 44,
   "metadata": {},
   "outputs": [
    {
     "name": "stdout",
     "output_type": "stream",
     "text": [
      "[{\"quote\": \"Mixing humor and politics is something that works.\", \"author\": \"Bryan Cranston\", \"category\": \"humor\"}]\n",
      "{'Content-Type': 'application/json', 'Content-Length': '114', 'Connection': 'keep-alive', 'Date': 'Mon, 06 Jun 2022 05:48:57 GMT', 'x-amzn-RequestId': '9ab32654-4327-4c28-93ac-399eeadd97f5', 'Access-Control-Allow-Origin': '*', 'Allow': 'GET, OPTIONS, POST', 'Access-Control-Allow-Headers': '*', 'x-amz-apigw-id': 'TSRDjG9XPHcF3OQ=', 'Access-Control-Allow-Methods': 'GET, OPTIONS, POST', 'X-Amzn-Trace-Id': 'Root=1-629d9549-509705f5571cbe0c65897783;Sampled=0', 'X-Cache': 'Miss from cloudfront', 'Via': '1.1 1e94f8bfedca9b1ad3b9259538f9432a.cloudfront.net (CloudFront)', 'X-Amz-Cf-Pop': 'LAX50-C1', 'X-Amz-Cf-Id': 'jSAOGQDTbK8B40PJgyOBjCHLGnJhYlegvsSmGzmw_SkRzIfsD_5NnQ=='}\n"
     ]
    }
   ],
   "source": [
    "import logging\n",
    "from pprint import pprint\n",
    "import pandas as pd\n",
    "import requests\n",
    "import sys\n",
    "import yaml\n",
    "\n",
    "# open and read api key from separate, hidden yaml file as a dict for security\n",
    "with open(\"./api_key.yml\") as key:\n",
    "    # reads the key, value pairs of the dictionary in the yaml file\n",
    "    api_key = yaml.full_load(key)\n",
    "\n",
    "# assigns the api query's full url address to \"api_url\"\n",
    "api_url = \"https://api.api-ninjas.com/v1/quotes?category=humor\"\n",
    "# call request.get method to retrieve the information returned from the query, using my api_key in the headers to be granted access\n",
    "response = requests.get(api_url, headers=api_key)\n",
    "# if the status code of of the response is 200, print the api response text and the headers for additional information\n",
    "if response.status_code == requests.codes.ok:\n",
    "    print(response.text)\n",
    "    print(response.headers)\n",
    "# else, print the error status code and the corresponding error message\n",
    "else:\n",
    "    print(\"Error:\", response.status_code, response.text)"
   ]
  }
 ],
 "metadata": {
  "interpreter": {
   "hash": "bf762d01356f80a3abdd7fa189e8f899126c2d57ddea76d897f2d4e345418e6b"
  },
  "kernelspec": {
   "display_name": "Python 3.7.13 ('venv': venv)",
   "language": "python",
   "name": "python3"
  },
  "language_info": {
   "codemirror_mode": {
    "name": "ipython",
    "version": 3
   },
   "file_extension": ".py",
   "mimetype": "text/x-python",
   "name": "python",
   "nbconvert_exporter": "python",
   "pygments_lexer": "ipython3",
   "version": "3.7.13"
  },
  "orig_nbformat": 4
 },
 "nbformat": 4,
 "nbformat_minor": 2
}
